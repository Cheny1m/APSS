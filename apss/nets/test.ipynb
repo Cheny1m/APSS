{
 "cells": [
  {
   "cell_type": "code",
   "execution_count": null,
   "metadata": {},
   "outputs": [],
   "source": [
    "import mindspore\n",
    "from mindspore import nn,ops  \n",
    "\n",
    "class AttentionModel(nn.Cell): \n",
    "\n",
    "    def __init__(self):\n",
    "        super(AttentionModel, self).__init__()\n",
    "\n",
    "    # 在网络的construct中有一个_inner操作\n",
    "    def construct(self, input):\n",
    "        # 其他代码\n",
    "        state =  StatePP(input)\n",
    "        b = self._get_log_p(state)\n",
    "    \n",
    "    def _get_log_p(self,state):\n",
    "        current_node = state.get_current_node() \n",
    "        # batch_size, num_steps = current_node.shape\n",
    "        batch_size = current_node.shape[0]\n",
    "\n",
    "        # 调用batchsize进行broadcast_to获得上述报错\n",
    "        ops.broadcast_to(self.W_placeholder[None, None, :], (batch_size, 1, self.W_placeholder.shape[-1]))\n",
    "                        \n"
   ]
  },
  {
   "cell_type": "code",
   "execution_count": null,
   "metadata": {},
   "outputs": [],
   "source": [
    "class StatePP:\n",
    "    def __init__(self, \n",
    "                 loc: ms.Tensor, \n",
    "                 ids: ms.Tensor,\n",
    "                 prev_a: ms.Tensor,\n",
    "                 visited_: ms.Tensor,\n",
    "                 i: ms.Tensor):\n",
    "        self.loc = loc\n",
    "        self.ids = ids\n",
    "        self.prev_a = prev_a\n",
    "        self.visited_ = visited_\n",
    "        self.i = i\n",
    "\n",
    "    \n",
    "    def __getitem__(self, key):\n",
    "        assert isinstance(key, ms.Tensor) or isinstance(key, slice)  # If tensor, idx all tensors by this tensor:\n",
    "        return self._replace(\n",
    "            ids=self.ids[key],\n",
    "            # first_a=self.first_a[key],\n",
    "            prev_a=self.prev_a[key],\n",
    "            visited_=self.visited_[key],\n",
    "        )"
   ]
  }
 ],
 "metadata": {
  "language_info": {
   "name": "python"
  }
 },
 "nbformat": 4,
 "nbformat_minor": 2
}
