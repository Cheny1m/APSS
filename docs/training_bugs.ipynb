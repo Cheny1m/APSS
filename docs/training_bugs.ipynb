{
 "cells": [
  {
   "cell_type": "markdown",
   "metadata": {},
   "source": [
    "* 在[attention_model](../apss/nets/attention_model.py)#Line226 和[attention_model_v2](../apss/nets/attention_model_v2.py)#Line227 中有一个Mindspore动态图下随机算子`ops.multinomial`内存泄漏的BUG,以下的Code是一个可复现的例子：\n",
    "* 同时，如果我们想在初始化类的时候定义`self._multinomial = ops.Multinomial()`，来缓解缓存未命中的问题，但此算子没有反向。\n"
   ]
  },
  {
   "cell_type": "code",
   "execution_count": null,
   "metadata": {
    "vscode": {
     "languageId": "plaintext"
    }
   },
   "outputs": [],
   "source": [
    "import os\n",
    "import psutil\n",
    "import numpy as np\n",
    "from typing import Tuple\n",
    "import mindspore as ms\n",
    "from mindspore import nn, Tensor, ops\n",
    "\n",
    "# 查询当前进程的内存，单位为MB\n",
    "def get_cpu_memory(pid=os.getpid()):\n",
    "    p = psutil.Process(pid)\n",
    "    return p.memory_info().rss / (1024 * 1024)\n",
    "\n",
    "class TestNet(nn.Cell):\n",
    "    def __init__(self):\n",
    "        super(TestNet, self).__init__()\n",
    "        self._multinomial = ops.operations.Multinomial(123, 321)\n",
    "\n",
    "    # sample from x with shape b*c and generate result with shape b*1\n",
    "    def construct(self, x: Tensor) -> Tuple[Tensor]:\n",
    "        # 使用ops.multinomial函数式调用，存在泄露\n",
    "        action = ops.multinomial(x, num_sample=1)\n",
    "\n",
    "        # 提前在构造函数创建算子实例，存在泄露\n",
    "        # action = self._multinomial(x, 1)\n",
    "\n",
    "        # 使用ops.zeros创建相同大小的输出结果，不会泄露\n",
    "        # action = ops.zeros((x.shape[0], 1), ms.int32)\n",
    "\n",
    "        return action\n",
    "\n",
    "def test_mem_leak():\n",
    "    bs = 128\n",
    "    c = 1024\n",
    "    net = TestNet()\n",
    "    x = Tensor(np.random.rand(bs, c), ms.float32)\n",
    "\n",
    "    # warmup\n",
    "    for i in range(50):\n",
    "        y = net(x)\n",
    "        # 通过转换成numpy矩阵确认计算已经完成\n",
    "        y_arr = y.asnumpy()\n",
    "\n",
    "    mem0 = get_cpu_memory()\n",
    "    mem1 = 0\n",
    "    for i in range(2000):\n",
    "        y = net(x)\n",
    "        # 通过转换成numpy矩阵确认计算已经完成\n",
    "        y_arr = y.asnumpy()\n",
    "\n",
    "        del y\n",
    "        del y_arr\n",
    "\n",
    "        mem1 = get_cpu_memory()\n",
    "        \n",
    "        if (i+1) % 100 == 0:\n",
    "            print('Step {}, cpu_mem {}MB -> {}MB'.format(i, mem0, mem1))\n",
    "\n",
    "    print('All done: cpu_mem {}MB -> {}MB'.format(mem0, mem1))\n",
    "\n",
    "if __name__ == '__main__':\n",
    "    ms.context.set_context(device_target='GPU', mode=ms.context.PYNATIVE_MODE)\n",
    "    # ms.context.set_context(device_target='GPU', mode=ms.context.GRAPH_MODE)\n",
    "\n",
    "    test_mem_leak()"
   ]
  }
 ],
 "metadata": {
  "language_info": {
   "name": "python"
  }
 },
 "nbformat": 4,
 "nbformat_minor": 2
}
