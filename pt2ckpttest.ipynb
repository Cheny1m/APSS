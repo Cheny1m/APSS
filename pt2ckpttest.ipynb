{
 "cells": [
  {
   "cell_type": "code",
   "execution_count": 1,
   "metadata": {},
   "outputs": [
    {
     "name": "stdout",
     "output_type": "stream",
     "text": [
      "[ 0.35893163 -0.1009329  -0.4974493   0.37615362  0.0476514  -0.23370646\n",
      " -0.4186804   0.01897566  0.15144823 -0.33811677]\n"
     ]
    }
   ],
   "source": [
    "import mindspore as ms\n",
    "import numpy as np\n",
    "from apss.nets import attention_model\n",
    "from apss.utils import load_problem as ms_load_problem\n",
    "def check_res(ckpt_path):\n",
    "    ms_resnet = attention_model.AttentionModel(128, 128, ms_load_problem('pp'), n_encode_layers=3, num_split=1, node_size=30).set_train(False)\n",
    "    ms.load_checkpoint(ckpt_path, ms_resnet)\n",
    "    print(ms_resnet.init_embed.weight.data.asnumpy().reshape((-1,))[:10])\n",
    "\n",
    "ckpt_path = \"/root/APSS/resource/outputs/pp_30/pp_30_2_final.ckpt\"\n",
    "check_res(ckpt_path)\n"
   ]
  }
 ],
 "metadata": {
  "kernelspec": {
   "display_name": "Python 3",
   "language": "python",
   "name": "python3"
  },
  "language_info": {
   "codemirror_mode": {
    "name": "ipython",
    "version": 3
   },
   "file_extension": ".py",
   "mimetype": "text/x-python",
   "name": "python",
   "nbconvert_exporter": "python",
   "pygments_lexer": "ipython3",
   "version": "3.7.5"
  }
 },
 "nbformat": 4,
 "nbformat_minor": 2
}
